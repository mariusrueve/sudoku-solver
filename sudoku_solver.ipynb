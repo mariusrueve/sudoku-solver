{
  "nbformat": 4,
  "nbformat_minor": 0,
  "metadata": {
    "colab": {
      "name": "sudoku-solver",
      "provenance": [],
      "collapsed_sections": [],
      "authorship_tag": "ABX9TyPB0uxmogUnKDufvx684Ai9",
      "include_colab_link": true
    },
    "kernelspec": {
      "name": "python3",
      "display_name": "Python 3"
    }
  },
  "cells": [
    {
      "cell_type": "markdown",
      "metadata": {
        "id": "view-in-github",
        "colab_type": "text"
      },
      "source": [
        "<a href=\"https://colab.research.google.com/github/mariusrueve/sudoku-solver/blob/master/sudoku_solver.ipynb\" target=\"_parent\"><img src=\"https://colab.research.google.com/assets/colab-badge.svg\" alt=\"Open In Colab\"/></a>"
      ]
    },
    {
      "cell_type": "markdown",
      "metadata": {
        "id": "zw6EKsrpMNY0",
        "colab_type": "text"
      },
      "source": [
        "1. Define board:\n",
        "\n",
        "---\n",
        "\n"
      ]
    },
    {
      "cell_type": "code",
      "metadata": {
        "id": "9rmoOmQQlRx_",
        "colab_type": "code",
        "colab": {}
      },
      "source": [
        "board = [\n",
        "    [7,8,0,4,0,0,1,2,0],\n",
        "    [6,0,0,0,7,5,0,0,9],\n",
        "    [0,0,0,6,0,1,0,7,8],\n",
        "    [0,0,7,0,4,0,2,6,0],\n",
        "    [0,0,1,0,5,0,9,3,0],\n",
        "    [9,0,4,0,6,0,0,0,5],\n",
        "    [0,7,0,3,0,0,0,1,2],\n",
        "    [1,2,0,0,0,7,4,0,0],\n",
        "    [0,4,9,2,0,6,0,0,7]\n",
        "]"
      ],
      "execution_count": 4,
      "outputs": []
    },
    {
      "cell_type": "markdown",
      "metadata": {
        "id": "rXGjKa0rNlWs",
        "colab_type": "text"
      },
      "source": [
        "2. Define function to print 2D-Sudokuboard\n",
        "\n",
        "---\n",
        "\n"
      ]
    },
    {
      "cell_type": "code",
      "metadata": {
        "id": "deZqw23aMWfC",
        "colab_type": "code",
        "colab": {}
      },
      "source": [
        "def print_board(board):\n",
        "    for i in range(len(board)):\n",
        "        if i % 3 == 0 and i != 0:\n",
        "            print(\"- - - - - - - - - - - -  \")\n",
        "\n",
        "        for j in range(len(board[0])):\n",
        "            if j % 3 == 0 and j != 0:\n",
        "                print(\" | \", end=\"\")\n",
        "\n",
        "            if j == 8:\n",
        "                print(board[i][j])\n",
        "            else:\n",
        "                print(str(board[i][j]) + \" \", end=\"\")"
      ],
      "execution_count": 12,
      "outputs": []
    },
    {
      "cell_type": "code",
      "metadata": {
        "id": "KZhDaHzWNkaH",
        "colab_type": "code",
        "colab": {}
      },
      "source": [
        "def find_empty(board):\n",
        "    for i in range(len(board)): # loop through row number\n",
        "        for j in range(len(board[0])): # loop through each element inside a row\n",
        "            if board[i][j] == 0:\n",
        "                return (i, j)  # row, col\n",
        "\n",
        "    return None"
      ],
      "execution_count": null,
      "outputs": []
    }
  ]
}